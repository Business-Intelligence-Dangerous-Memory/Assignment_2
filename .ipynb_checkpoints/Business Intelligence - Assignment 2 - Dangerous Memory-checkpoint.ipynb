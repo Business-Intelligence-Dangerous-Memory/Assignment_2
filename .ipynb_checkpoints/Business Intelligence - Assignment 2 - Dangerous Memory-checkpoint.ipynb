{
 "cells": [
  {
   "cell_type": "markdown",
   "metadata": {},
   "source": [
    "# Assignment 2: Data (Pre)processing and Simple Plotting"
   ]
  },
  {
   "cell_type": "markdown",
   "metadata": {},
   "source": [
    "Group: Dangerous Memory (Christian, Jake, Alexander)\n",
    "\n",
    "https://github.com/datsoftlyngby/soft2019fall-bi-teaching-material/tree/master/week36/assignment_2"
   ]
  },
  {
   "cell_type": "markdown",
   "metadata": {},
   "source": [
    "## Tasks"
   ]
  },
  {
   "cell_type": "markdown",
   "metadata": {},
   "source": [
    "#### 1.Read the entire dataset of Danish housing sales data, from Boliga, into a Pandas DataFrame. Use the read_csv function from the pandas module."
   ]
  },
  {
   "cell_type": "markdown",
   "metadata": {},
   "source": [
    "Using a few helper functions, download the zip file containing the boliga data, unzip the file containing the multiple CSV files and combine them. Finally read the combines CSV file into a pandas dataframe."
   ]
  },
  {
   "cell_type": "code",
   "execution_count": 2,
   "metadata": {},
   "outputs": [
    {
     "name": "stdout",
     "output_type": "stream",
     "text": [
      "Downloading boliga_stats.zip from https://raw.github.com/datsoftlyngby/soft2019fall-bi-teaching-material/master/week36/assignment_2/boliga_stats.zip...\n",
      "boliga_stats.zip downloaded.\n",
      "Extracting boliga_stats.zip into folder boliga_stats.\n",
      "Combining all csv files into boliga_all.csv ...\n",
      "Done!\n"
     ]
    }
   ],
   "source": [
    "import requests\n",
    "import os.path\n",
    "import sys\n",
    "import zipfile\n",
    "import glob\n",
    "import pandas as pd\n",
    "\n",
    "boliga_stats_url = \"https://raw.github.com/datsoftlyngby/soft2019fall-bi-teaching-material/master/week36/assignment_2/boliga_stats.zip\"\n",
    "boliga_filename = \"boliga_stats.zip\"\n",
    "boliga_extraction_folder = \"boliga_stats\"\n",
    "\n",
    "\n",
    "def download_as_file(URL, file_name):\n",
    "    '''Download file from given URL and save to file_name from parameters, if already exists, do nothing..'''\n",
    "\n",
    "    if not os.path.isfile(file_name):\n",
    "\n",
    "        try:\n",
    "            print(f'Downloading {boliga_filename} from {boliga_stats_url}...')\n",
    "            response = requests.get(URL)\n",
    "\n",
    "            with open(file_name, 'wb') as the_file:\n",
    "                the_file.write(response.content)\n",
    "\n",
    "        except Exception as e:\n",
    "            print(f'Error downloading {boliga_filename}; ', e)\n",
    "            sys.exit(1)\n",
    "        print(f'{boliga_filename} downloaded.')\n",
    "    else:\n",
    "        print(f'{boliga_filename} already downloaded')\n",
    "\n",
    "\n",
    "def unzip_file(file_to_unzip, extraction_folder):\n",
    "    '''unzip given zipfile to given extraction folder, if given folder is empty'''\n",
    "    if not os.path.exists(extraction_folder):\n",
    "        os.makedirs(extraction_folder)\n",
    "    if len(os.listdir(boliga_extraction_folder)) == 0:\n",
    "        print(f'Extracting {boliga_filename} into folder {boliga_extraction_folder}.')\n",
    "        with zipfile.ZipFile(file_to_unzip, 'r') as zip_ref:\n",
    "            zip_ref.extractall(extraction_folder)\n",
    "    else: \n",
    "        print(f'{boliga_filename} already extracted.')\n",
    "\n",
    "\n",
    "def combine_all_csv():\n",
    "    '''\n",
    "    Combine multiple CSV files\n",
    "    https://www.freecodecamp.org/news/how-to-combine-multiple-csv-files-with-8-lines-of-code-265183e0854/\n",
    "    '''\n",
    "    print(f'Combining all csv files into boliga_all.csv ...')\n",
    "    os.chdir(boliga_extraction_folder)\n",
    "    all_filenames = [i for i in glob.glob('*.{}'.format('csv'))]\n",
    "    #combine all files in the list\n",
    "    combined_csv = pd.concat([pd.read_csv(f) for f in all_filenames ])\n",
    "    os.chdir('..')\n",
    "    #export to csv\n",
    "    combined_csv.to_csv( \"boliga_all.csv\", index=False, encoding='utf-8-sig')\n",
    "    print(\"Done!\")\n",
    "\n",
    "download_as_file(boliga_stats_url, boliga_filename)\n",
    "unzip_file(boliga_filename, boliga_extraction_folder)\n",
    "combine_all_csv()\n",
    "\n",
    "df = pd.read_csv('boliga_all.csv')"
   ]
  },
  {
   "cell_type": "markdown",
   "metadata": {},
   "source": [
    "Cleanup of the multiple CSV files & zip file:"
   ]
  },
  {
   "cell_type": "code",
   "execution_count": 3,
   "metadata": {},
   "outputs": [
    {
     "name": "stdout",
     "output_type": "stream",
     "text": [
      "done cleaning up\n"
     ]
    }
   ],
   "source": [
    "%%bash\n",
    "rm -r \"boliga_stats\"\n",
    "rm \"boliga_stats.zip\"\n",
    "echo done cleaning up"
   ]
  },
  {
   "cell_type": "markdown",
   "metadata": {},
   "source": [
    "#### 2. Geocode the the entire dataset of Danish housing sales data. Add two new columns to the DataFrame, one for latitude (lat) and one for longitude (lon) coordinates per address. Do the geocoding with help of the OSM dataset stored in a file as discussed in class. Save that DataFrame to a CSV file with the help of pandas'"
   ]
  },
  {
   "cell_type": "markdown",
   "metadata": {},
   "source": [
    "Remove null (NaN) values from the dataset:"
   ]
  },
  {
   "cell_type": "code",
   "execution_count": 4,
   "metadata": {},
   "outputs": [],
   "source": [
    "df_data = df[(~df['address'].isnull()) & (~df['zip_code'].isnull())]"
   ]
  },
  {
   "cell_type": "markdown",
   "metadata": {},
   "source": [
    "Because of the data processing time of the .osm file, Jacob was so kind to preprocess it into a csv file, as described belov.\n",
    "\n",
    "Logic for parsing the huge OSM data file (https://drive.google.com/file/d/1cuS1_bIgOz8v906b7rQUEBmiMkFiXzkC/view)with osmread package to a dataframe, then save it to disc as a csv file. \n",
    "Then csv file (https://github.com/datsoftlyngby/soft2019fall-bi-teaching-material/blob/master/week36/assignment_2/postcodes.zip)"
   ]
  },
  {
   "cell_type": "code",
   "execution_count": 15,
   "metadata": {},
   "outputs": [],
   "source": [
    "from osmread import parse_file, Node\n",
    "from collections import defaultdict\n",
    "\n",
    "postcodes = defaultdict(lambda: defaultdict(dict))\n",
    "\n",
    "for i, entry in enumerate(parse_file('./data/denmark-latest.osm')):\n",
    "    print('i = ', i)\n",
    "    if (isinstance(entry, Node) and \n",
    "        'addr:street' in entry.tags and \n",
    "        'addr:postcode' in entry.tags and \n",
    "        'addr:housenumber' in entry.tags and\n",
    "        'addr:city' in entry.tags):\n",
    "            postcodes[entry.tags['addr:postcode']][entry.tags['addr:street']][entry.tags['addr:housenumber']][entry.tags['addr:city']] = entry.lon, entry.lat\n",
    "\n",
    "# TODO missing save \"postcodes\" dict to csv\n",
    "\n"
   ]
  },
  {
   "cell_type": "markdown",
   "metadata": {},
   "source": [
    "TROR LØSNINGEN ER AT KODE NEDENSTÅENDE \"OM\", SÅ DER LAVES EN COPY AF df_data, OG DER SÅ I STEDET FOR AT LØBES IGENNEM NODES, MATCHES PÅ ADRESSEN I CSV FILEN."
   ]
  },
  {
   "cell_type": "markdown",
   "metadata": {},
   "source": [
    "Make a copy of the df_data dataframe, where  the last part of the address entry tag is removed (i.e. \"st. tv\").\n",
    "\n",
    "Iterate over the .osm data: \n",
    "\n",
    "for each valid node, structure an address and zip_code string from its content.\n",
    "Where the address and zip code data between the node and the dataframe data corresponds, add a new column to the original df_data dataframe containing the longitude & latitude values from the node.\n"
   ]
  },
  {
   "cell_type": "code",
   "execution_count": 13,
   "metadata": {},
   "outputs": [],
   "source": [
    "temp_df_data = df_data.copy()\n",
    "temp_df_data['address'] = temp_df_data['address'].str.split(',').str[0]\n",
    "\n",
    "df_postcode = pd.read_json('postcodes.json')\n",
    "\n",
    "# for idx, decoded_node in enumerate(decode_node_to_csv()):\n",
    "#     address = decoded_node.tags['addr:street'] + ' ' + decoded_node.tags['addr:housenumber']\n",
    "#     zip_code = decoded_node.tags['addr:postcode'] + ' ' + decoded_node.tags['addr:city']\n",
    "#     df_index = temp_df_data.index[(temp_df_data['address'] == address) & (temp_df_data['zip_code'] == zip_code)]\n",
    "#     if not df_data.loc[df_index].empty:\n",
    "#         df_data.loc[df_index, 'lon'] = decoded_node.lon\n",
    "#         df_data.loc[df_index, 'lat'] = decoded_node.lat"
   ]
  },
  {
   "cell_type": "code",
   "execution_count": 151,
   "metadata": {
    "scrolled": true
   },
   "outputs": [
    {
     "name": "stdout",
     "output_type": "stream",
     "text": [
      "FOUND!!!Rådhusstræde 4C in  -> 1466\n",
      "FOUND!!!Rådhusstræde 4 in  -> 1466\n",
      "FOUND!!!Rådhusstræde 4C in  -> 4600\n",
      "FOUND!!!Rådhusstræde 4 in  -> 7500\n",
      "FOUND!!!Rådhusstræde 4C in  -> 7700\n",
      "FOUND!!!Rådhusstræde 4 in  -> 9900\n",
      "FOUND!!!Rådhusstræde 4C in  -> 8900\n",
      "FOUND!!!Rådhusstræde 4 in  -> 5400\n",
      "FOUND!!!Rådhusstræde 4C in  -> 4970\n",
      "FOUND!!!Rådhusstræde 4 in  -> 6360\n",
      "FOUND!!!Rådhusstræde 4 in  -> 4720\n"
     ]
    }
   ],
   "source": [
    "import math \n",
    "\n",
    "df_postcode\n",
    "\n",
    "####\n",
    "# finde adresse og husnummer ZIPCODE? \n",
    "###\n",
    "\n",
    "\n",
    "# list_of_postcodes = list(df_postcode)\n",
    "\n",
    "# for postcode in list_of_postcodes:\n",
    "#      for address, number in df_postcode[postcode].iteritems(): # adresse,  nan/nummer (dict)\n",
    "#         if not number != number:  # if non nan\n",
    "#             for num in number:\n",
    "#                 #print(address+\" \"+num + \"||||||| \"+ ) \n",
    "#          #       if address+\" \"+num in temp_df_data[\"address\"] :\n",
    "#                 res = temp_df_data[\"address\"][1].find(address+\" \"+num)\n",
    "#                 if res != -1:\n",
    "#                     print(\"FOUND!!!\"+address+\" \"+num + \" in  -> \"+postcode)\n",
    "#        #             print(address, number)   # adresse , {\"husnummer\":[lan, lon]}\n",
    "    \n",
    "        \n",
    "#row er en tuple \n",
    "#row[0] # vejnavnet som string\n",
    "#row[1] # postnummeret som padas series, postnummer og nan / nummer\n",
    "\n",
    "#for i, v in row[1].items():\n",
    "#    if not v != v: # avoid NaN values\n",
    "#        print(i,v)\n",
    "    \n",
    "    \n",
    "    \n",
    "    \n",
    "#if not df_postcode[zip_code].empty:\n",
    "        \n",
    "    # kan nu hive address og zipcode ud af df. Skal finde en måde at checke om denne data er i df_postcode..\n",
    "\n"
   ]
  },
  {
   "cell_type": "code",
   "execution_count": 154,
   "metadata": {},
   "outputs": [
    {
     "data": {
      "text/plain": [
       "'Ved Volden 5'"
      ]
     },
     "execution_count": 154,
     "metadata": {},
     "output_type": "execute_result"
    }
   ],
   "source": [
    "temp_df_data[\"address\"][0]"
   ]
  },
  {
   "cell_type": "code",
   "execution_count": null,
   "metadata": {},
   "outputs": [],
   "source": []
  },
  {
   "cell_type": "code",
   "execution_count": null,
   "metadata": {},
   "outputs": [],
   "source": []
  },
  {
   "cell_type": "code",
   "execution_count": null,
   "metadata": {},
   "outputs": [],
   "source": [
    "df_data = pd.to_csv(r'osm_export.csv')"
   ]
  },
  {
   "cell_type": "code",
   "execution_count": null,
   "metadata": {
    "scrolled": false
   },
   "outputs": [],
   "source": [
    "df_data['sell_date'] = pd.to_datetime(df_data['sell_date'], dayfirst = True)"
   ]
  },
  {
   "cell_type": "code",
   "execution_count": 115,
   "metadata": {},
   "outputs": [],
   "source": [
    "df_1992 = df_data[(df_data['sell_date'].dt.year == 1992)].copy()\n",
    "df_1992_mean = df_1992[(df_1992['zip_code'].str.startswith(tuple(['1050','1049','5000','8000','9000'])))].groupby('zip_code').mean().sort_values('price').copy()\n",
    "df_2016 = df_data[(df_data['sell_date'].dt.year == 2016)].copy()\n",
    "df_2016_mean = df_2016[(df_2016['zip_code'].str.startswith(tuple(['1050','1049','5000','8000','9000'])))].groupby('zip_code').mean().sort_values('price').copy()"
   ]
  },
  {
   "cell_type": "code",
   "execution_count": 116,
   "metadata": {},
   "outputs": [
    {
     "data": {
      "text/html": [
       "<div>\n",
       "<style scoped>\n",
       "    .dataframe tbody tr th:only-of-type {\n",
       "        vertical-align: middle;\n",
       "    }\n",
       "\n",
       "    .dataframe tbody tr th {\n",
       "        vertical-align: top;\n",
       "    }\n",
       "\n",
       "    .dataframe thead th {\n",
       "        text-align: right;\n",
       "    }\n",
       "</style>\n",
       "<table border=\"1\" class=\"dataframe\">\n",
       "  <thead>\n",
       "    <tr style=\"text-align: right;\">\n",
       "      <th></th>\n",
       "      <th>price</th>\n",
       "      <th>price_per_sq_m</th>\n",
       "      <th>no_rooms</th>\n",
       "      <th>size_in_sq_m</th>\n",
       "      <th>year_of_construction</th>\n",
       "      <th>price_change_in_pct</th>\n",
       "      <th>lon</th>\n",
       "      <th>lat</th>\n",
       "    </tr>\n",
       "    <tr>\n",
       "      <th>zip_code</th>\n",
       "      <th></th>\n",
       "      <th></th>\n",
       "      <th></th>\n",
       "      <th></th>\n",
       "      <th></th>\n",
       "      <th></th>\n",
       "      <th></th>\n",
       "      <th></th>\n",
       "    </tr>\n",
       "  </thead>\n",
       "  <tbody>\n",
       "    <tr>\n",
       "      <th>5000 Odense C</th>\n",
       "      <td>5.729066e+05</td>\n",
       "      <td>5452.180723</td>\n",
       "      <td>4.382979</td>\n",
       "      <td>117.393617</td>\n",
       "      <td>1930.436170</td>\n",
       "      <td>0.0</td>\n",
       "      <td>NaN</td>\n",
       "      <td>NaN</td>\n",
       "    </tr>\n",
       "    <tr>\n",
       "      <th>9000 Aalborg</th>\n",
       "      <td>5.946942e+05</td>\n",
       "      <td>4606.680851</td>\n",
       "      <td>4.485876</td>\n",
       "      <td>131.661017</td>\n",
       "      <td>1949.644068</td>\n",
       "      <td>0.0</td>\n",
       "      <td>NaN</td>\n",
       "      <td>NaN</td>\n",
       "    </tr>\n",
       "    <tr>\n",
       "      <th>8000 Aarhus C</th>\n",
       "      <td>1.005108e+06</td>\n",
       "      <td>7172.032787</td>\n",
       "      <td>3.871429</td>\n",
       "      <td>107.842857</td>\n",
       "      <td>1919.528571</td>\n",
       "      <td>0.0</td>\n",
       "      <td>NaN</td>\n",
       "      <td>NaN</td>\n",
       "    </tr>\n",
       "  </tbody>\n",
       "</table>\n",
       "</div>"
      ],
      "text/plain": [
       "                      price  price_per_sq_m  no_rooms  size_in_sq_m  \\\n",
       "zip_code                                                              \n",
       "5000 Odense C  5.729066e+05     5452.180723  4.382979    117.393617   \n",
       "9000 Aalborg   5.946942e+05     4606.680851  4.485876    131.661017   \n",
       "8000 Aarhus C  1.005108e+06     7172.032787  3.871429    107.842857   \n",
       "\n",
       "               year_of_construction  price_change_in_pct  lon  lat  \n",
       "zip_code                                                            \n",
       "5000 Odense C           1930.436170                  0.0  NaN  NaN  \n",
       "9000 Aalborg            1949.644068                  0.0  NaN  NaN  \n",
       "8000 Aarhus C           1919.528571                  0.0  NaN  NaN  "
      ]
     },
     "metadata": {},
     "output_type": "display_data"
    },
    {
     "data": {
      "text/html": [
       "<div>\n",
       "<style scoped>\n",
       "    .dataframe tbody tr th:only-of-type {\n",
       "        vertical-align: middle;\n",
       "    }\n",
       "\n",
       "    .dataframe tbody tr th {\n",
       "        vertical-align: top;\n",
       "    }\n",
       "\n",
       "    .dataframe thead th {\n",
       "        text-align: right;\n",
       "    }\n",
       "</style>\n",
       "<table border=\"1\" class=\"dataframe\">\n",
       "  <thead>\n",
       "    <tr style=\"text-align: right;\">\n",
       "      <th></th>\n",
       "      <th>price</th>\n",
       "      <th>price_per_sq_m</th>\n",
       "      <th>no_rooms</th>\n",
       "      <th>size_in_sq_m</th>\n",
       "      <th>year_of_construction</th>\n",
       "      <th>price_change_in_pct</th>\n",
       "      <th>lon</th>\n",
       "      <th>lat</th>\n",
       "    </tr>\n",
       "    <tr>\n",
       "      <th>zip_code</th>\n",
       "      <th></th>\n",
       "      <th></th>\n",
       "      <th></th>\n",
       "      <th></th>\n",
       "      <th></th>\n",
       "      <th></th>\n",
       "      <th></th>\n",
       "      <th></th>\n",
       "    </tr>\n",
       "  </thead>\n",
       "  <tbody>\n",
       "    <tr>\n",
       "      <th>5000 Odense C</th>\n",
       "      <td>1.815754e+06</td>\n",
       "      <td>19378.442120</td>\n",
       "      <td>3.314763</td>\n",
       "      <td>97.200557</td>\n",
       "      <td>1935.123955</td>\n",
       "      <td>-2.142061</td>\n",
       "      <td>NaN</td>\n",
       "      <td>NaN</td>\n",
       "    </tr>\n",
       "    <tr>\n",
       "      <th>9000 Aalborg</th>\n",
       "      <td>1.934649e+06</td>\n",
       "      <td>19624.186047</td>\n",
       "      <td>3.295352</td>\n",
       "      <td>98.492123</td>\n",
       "      <td>1943.789355</td>\n",
       "      <td>-1.593703</td>\n",
       "      <td>NaN</td>\n",
       "      <td>NaN</td>\n",
       "    </tr>\n",
       "    <tr>\n",
       "      <th>8000 Aarhus C</th>\n",
       "      <td>2.627758e+06</td>\n",
       "      <td>33120.196970</td>\n",
       "      <td>2.677419</td>\n",
       "      <td>79.471014</td>\n",
       "      <td>1943.096116</td>\n",
       "      <td>-0.824885</td>\n",
       "      <td>NaN</td>\n",
       "      <td>NaN</td>\n",
       "    </tr>\n",
       "  </tbody>\n",
       "</table>\n",
       "</div>"
      ],
      "text/plain": [
       "                      price  price_per_sq_m  no_rooms  size_in_sq_m  \\\n",
       "zip_code                                                              \n",
       "5000 Odense C  1.815754e+06    19378.442120  3.314763     97.200557   \n",
       "9000 Aalborg   1.934649e+06    19624.186047  3.295352     98.492123   \n",
       "8000 Aarhus C  2.627758e+06    33120.196970  2.677419     79.471014   \n",
       "\n",
       "               year_of_construction  price_change_in_pct  lon  lat  \n",
       "zip_code                                                            \n",
       "5000 Odense C           1935.123955            -2.142061  NaN  NaN  \n",
       "9000 Aalborg            1943.789355            -1.593703  NaN  NaN  \n",
       "8000 Aarhus C           1943.096116            -0.824885  NaN  NaN  "
      ]
     },
     "metadata": {},
     "output_type": "display_data"
    }
   ],
   "source": [
    "display(df_1992_mean, df_2016_mean)"
   ]
  },
  {
   "cell_type": "code",
   "execution_count": 119,
   "metadata": {},
   "outputs": [],
   "source": [
    "df_1992[(df_1992['zip_code'].str.startswith(tuple(['1050','1049'])))].to_csv(r'year-1992_zip-1050-1049.csv')\n",
    "df_1992[(df_1992['zip_code'].str.startswith('5000'))].to_csv(r'year-1992_zip-5000.csv')\n",
    "df_1992[(df_1992['zip_code'].str.startswith('8000'))].to_csv(r'year-1992_zip-8000.csv')\n",
    "df_1992[(df_1992['zip_code'].str.startswith('9000'))].to_csv(r'year-1992_zip-9000.csv')"
   ]
  },
  {
   "cell_type": "code",
   "execution_count": 122,
   "metadata": {},
   "outputs": [
    {
     "data": {
      "text/plain": [
       "<matplotlib.axes._subplots.AxesSubplot at 0x7f224fa43908>"
      ]
     },
     "execution_count": 122,
     "metadata": {},
     "output_type": "execute_result"
    },
    {
     "data": {
      "image/png": "[encoded data removed]",
      "text/plain": [
       "<Figure size 432x288 with 1 Axes>"
      ]
     },
     "metadata": {
      "needs_background": "light"
     },
     "output_type": "display_data"
    }
   ],
   "source": [
    "%matplotlib inline\n",
    "df_data.plot.scatter(x = 'lon', y = 'lat')"
   ]
  },
  {
   "cell_type": "code",
   "execution_count": 127,
   "metadata": {},
   "outputs": [],
   "source": [
    "import math\n",
    "def haversine_distance(origin, destination):\n",
    "\n",
    "    lat_orig, lon_orig = origin\n",
    "    lat_dest, lon_dest = destination\n",
    "    radius = 6371\n",
    "\n",
    "    dlat = math.radians(lat_dest-lat_orig)\n",
    "    dlon = math.radians(lon_dest-lon_orig)\n",
    "    a = (math.sin(dlat / 2) * math.sin(dlat / 2) + math.cos(math.radians(lat_orig)) \n",
    "        * math.cos(math.radians(lat_dest)) * math.sin(dlon / 2) * math.sin(dlon / 2))\n",
    "    c = 2 * math.atan2(math.sqrt(a), math.sqrt(1 - a))\n",
    "    d = radius * c\n",
    "\n",
    "    return d"
   ]
  },
  {
   "cell_type": "code",
   "execution_count": 153,
   "metadata": {},
   "outputs": [
    {
     "data": {
      "text/plain": [
       "756206"
      ]
     },
     "metadata": {},
     "output_type": "display_data"
    }
   ],
   "source": [
    "import matplotlib.pyplot as plt\n",
    "#Roskilde (lat=55.65, lon=12.083333)\n",
    "\n",
    "list_df = []\n",
    "\n",
    "df_not_nan = df_data.dropna().copy()\n",
    "#display(df_not_nan)\n",
    "\n",
    "for idx, item in df_not_nan.iterrows():\n",
    "    list_df.append(haversine_distance(tuple([55.65,12.083333]), tuple([item.lat, item.lon])))\n",
    "    \n",
    "    clear_output(wait=True)\n",
    "    display(idx)"
   ]
  },
  {
   "cell_type": "code",
   "execution_count": 154,
   "metadata": {},
   "outputs": [
    {
     "data": {
      "text/plain": [
       "<matplotlib.collections.PathCollection at 0x7f22464021d0>"
      ]
     },
     "execution_count": 154,
     "metadata": {},
     "output_type": "execute_result"
    },
    {
     "data": {
      "image/png": "[encoded data removed]",
      "text/plain": [
       "<Figure size 432x288 with 1 Axes>"
      ]
     },
     "metadata": {
      "needs_background": "light"
     },
     "output_type": "display_data"
    }
   ],
   "source": [
    "plt.scatter(x = df_not_nan.lon, y = df_not_nan.lat, c = list_df)"
   ]
  },
  {
   "cell_type": "code",
   "execution_count": null,
   "metadata": {},
   "outputs": [],
   "source": []
  }
 ],
 "metadata": {
  "kernelspec": {
   "display_name": "Python 3",
   "language": "python",
   "name": "python3"
  },
  "language_info": {
   "codemirror_mode": {
    "name": "ipython",
    "version": 3
   },
   "file_extension": ".py",
   "mimetype": "text/x-python",
   "name": "python",
   "nbconvert_exporter": "python",
   "pygments_lexer": "ipython3",
   "version": "3.6.5"
  }
 },
 "nbformat": 4,
 "nbformat_minor": 2
}
